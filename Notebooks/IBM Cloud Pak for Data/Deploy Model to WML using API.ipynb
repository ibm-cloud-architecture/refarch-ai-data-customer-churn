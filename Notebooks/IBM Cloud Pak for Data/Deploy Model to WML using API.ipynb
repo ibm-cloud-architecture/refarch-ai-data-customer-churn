{
 "cells": [
  {
   "cell_type": "markdown",
   "metadata": {},
   "source": [
    "# In this Notebook we shall deploy an already saved Model in WML using WML API"
   ]
  },
  {
   "cell_type": "code",
   "execution_count": 1,
   "metadata": {},
   "outputs": [
    {
     "name": "stderr",
     "output_type": "stream",
     "text": [
      "/opt/conda/lib/python3.6/site-packages/sklearn/externals/joblib/__init__.py:15: DeprecationWarning: sklearn.externals.joblib is deprecated in 0.21 and will be removed in 0.23. Please import this functionality directly from joblib, which can be installed with: pip install joblib. If this warning is raised when loading pickled models, you may need to re-serialize those models with scikit-learn 0.21+.\n",
      "  warnings.warn(msg, category=DeprecationWarning)\n"
     ]
    }
   ],
   "source": [
    "from watson_machine_learning_client import WatsonMachineLearningAPIClient"
   ]
  },
  {
   "cell_type": "code",
   "execution_count": 2,
   "metadata": {},
   "outputs": [],
   "source": [
    "wml_credentials = {\n",
    "    \"url\": \"<the url of cp4d without the port>\"\",\n",
    "    \"username\": \"<your user id with administrator permission>\",\n",
    "    \"password\": \">your password\",\n",
    "    \"instance_id\": \"icp\"               \n",
    "}\n",
    "\n",
    "\n",
    "wml_client = WatsonMachineLearningAPIClient(wml_credentials)"
   ]
  },
  {
   "cell_type": "code",
   "execution_count": 4,
   "metadata": {},
   "outputs": [
    {
     "name": "stdout",
     "output_type": "stream",
     "text": [
      "------------------------------------  ------------------------  ------------------------  -----------------\n",
      "GUID                                  NAME                      CREATED                   FRAMEWORK\n",
      "89b02fc5-ecff-4c57-b3e6-cf437243a94f  churn-model-in-cp4d-wml   2019-09-19T04:27:51.086Z  mllib-2.3\n",
      "461e6896-2d71-4251-914b-8ee8b62c68e5  churn-model-in-cp4d-wml   2019-09-17T19:01:04.539Z  mllib-2.3\n",
      "49fa0aa9-30d3-459e-a840-1cc8242b512b  GermanCreditRiskModelICP  2019-09-17T16:32:02.642Z  mllib-2.3\n",
      "75d7afec-7148-45f3-ad67-96ea6fb45680  HouseCreditRiskModelICP   2019-09-17T15:58:17.452Z  scikit-learn-0.19\n",
      "64c9f2c0-1374-42a6-ae08-53e32ddc0a29  GolfModelICP              2019-09-17T15:51:35.223Z  scikit-learn-0.19\n",
      "2ddc52dd-fbdd-4085-bcc0-e42c6a6fde86  DrugSelectionModelICP     2019-09-17T15:31:32.637Z  mllib-2.3\n",
      "------------------------------------  ------------------------  ------------------------  -----------------\n"
     ]
    }
   ],
   "source": [
    "wml_client.repository.list_models()"
   ]
  },
  {
   "cell_type": "markdown",
   "metadata": {},
   "source": [
    "#### Select the Model guid that you saved in previous step and use the same to deploy the model. Please use a deployment name prefixed with your name for uniqueness"
   ]
  },
  {
   "cell_type": "code",
   "execution_count": 5,
   "metadata": {},
   "outputs": [
    {
     "name": "stdout",
     "output_type": "stream",
     "text": [
      "\n",
      "\n",
      "#######################################################################################\n",
      "\n",
      "Synchronous deployment creation for uid: '89b02fc5-ecff-4c57-b3e6-cf437243a94f' started\n",
      "\n",
      "#######################################################################################\n",
      "\n",
      "\n",
      "INITIALIZING\n",
      "DEPLOY_SUCCESS\n",
      "\n",
      "\n",
      "------------------------------------------------------------------------------------------------\n",
      "Successfully finished deployment creation, deployment_uid='94072b30-fa16-4957-a0ad-b034de026229'\n",
      "------------------------------------------------------------------------------------------------\n",
      "\n",
      "\n"
     ]
    }
   ],
   "source": [
    "deployment_rfc_details = wml_client.deployments.create(\"89b02fc5-ecff-4c57-b3e6-cf437243a94f\", name='churn-model-in-cp4d-wml-dep2')"
   ]
  },
  {
   "cell_type": "code",
   "execution_count": null,
   "metadata": {},
   "outputs": [],
   "source": []
  }
 ],
 "metadata": {
  "kernelspec": {
   "display_name": "Python3.6",
   "language": "python",
   "name": "python3"
  },
  "language_info": {
   "codemirror_mode": {
    "name": "ipython",
    "version": 3
   },
   "file_extension": ".py",
   "mimetype": "text/x-python",
   "name": "python",
   "nbconvert_exporter": "python",
   "pygments_lexer": "ipython3",
   "version": "3.6.7"
  }
 },
 "nbformat": 4,
 "nbformat_minor": 2
}

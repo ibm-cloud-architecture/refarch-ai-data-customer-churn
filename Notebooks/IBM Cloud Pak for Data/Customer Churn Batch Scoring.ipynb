{
 "cells": [
  {
   "cell_type": "markdown",
   "metadata": {},
   "source": [
    "## In this Notebook we do Batch Scoring"
   ]
  },
  {
   "cell_type": "markdown",
   "metadata": {},
   "source": [
    "#### You can either read the data to score from DB2Wh if it is already inserted there. Or you can read it from the local file. Please follow the instruction in the lab to determine which way you need to read this data. Here we have examples of both approaches."
   ]
  },
  {
   "cell_type": "markdown",
   "metadata": {},
   "source": [
    "#### The cell below shows how to read the data to score from Db2Wh"
   ]
  },
  {
   "cell_type": "code",
   "execution_count": 96,
   "metadata": {},
   "outputs": [
    {
     "name": "stdout",
     "output_type": "stream",
     "text": [
      "+-----+---+------+------+--------+---------+--------+---------+------------+-------------+-----+-------+---------+-------------+--------------------+-----+--------+\n",
      "|PHASE| ID|GENDER|STATUS|CHILDREN|ESTINCOME|CAROWNER|      AGE|LONGDISTANCE|INTERNATIONAL|LOCAL|DROPPED|PAYMETHOD|LOCALBILLTYPE|LONGDISTANCEBILLTYPE|USAGE|RATEPLAN|\n",
      "+-----+---+------+------+--------+---------+--------+---------+------------+-------------+-----+-------+---------+-------------+--------------------+-----+--------+\n",
      "|Adult| 14|     F|     M|       2|  52004.8|       N|    25.14|           5|            0|   23|      0|       CH|       Budget|      Intnl_discount|   28|       1|\n",
      "|Adult| 18|     M|     M|       1|  75004.5|       N|     64.8|          26|            0|   32|      0|       CC|       Budget|      Intnl_discount|   58|       1|\n",
      "|Adult| 21|     M|     M|       0|  19749.3|       N|60.366667|          20|            0|   13|      0|       CC|       Budget|            Standard|   34|       3|\n",
      "|Adult| 22|     M|     S|       1|  57626.9|       Y|43.906667|           9|            0|   38|      0|       CC|       Budget|            Standard|   48|       2|\n",
      "|Adult| 35|     F|     S|       0|  78851.3|       N|48.373333|           0|            0|   28|      0|       CC|    FreeLocal|            Standard|   29|       4|\n",
      "+-----+---+------+------+--------+---------+--------+---------+------------+-------------+-----+-------+---------+-------------+--------------------+-----+--------+\n",
      "only showing top 5 rows\n",
      "\n"
     ]
    }
   ],
   "source": [
    "\n",
    "\n",
    "# import dsx_core_utils, requests, os, io\n",
    "# from pyspark.sql import SparkSession\n",
    "# # Add asset from remote connection\n",
    "# df2 = None\n",
    "# dataSet = dsx_core_utils.get_remote_data_set_info('CUST_DAILY_TEST00')\n",
    "# dataSource = dsx_core_utils.get_data_source_info(dataSet['datasource'])\n",
    "# sparkSession = SparkSession(sc).builder.getOrCreate()\n",
    "# # Load JDBC data to Spark dataframe\n",
    "# dbTableOrQuery = '\"' + (dataSet['schema'] + '\".\"' if(len(dataSet['schema'].strip()) != 0) else '') + dataSet['table'] + '\"'\n",
    "# if (dataSet['query']):\n",
    "#     dbTableOrQuery = \"(\" + dataSet['query'] + \") TBL\"\n",
    "# df2 = sparkSession.read.format(\"jdbc\").option(\"url\", dataSource['URL']).option(\"dbtable\", dbTableOrQuery).option(\"user\",dataSource['user']).option(\"password\",dataSource['password']).load()\n",
    "# df2.show(5)\n",
    "\n",
    "\n"
   ]
  },
  {
   "cell_type": "markdown",
   "metadata": {},
   "source": [
    "#### The cell below shows the approach to read the scoring data from a local csv file"
   ]
  },
  {
   "cell_type": "code",
   "execution_count": 2,
   "metadata": {},
   "outputs": [
    {
     "name": "stdout",
     "output_type": "stream",
     "text": [
      "+-----+---+------+------+--------+---------+--------+---------+------------+-------------+-----+-------+---------+-------------+--------------------+-----+--------+\n",
      "|PHASE| ID|GENDER|STATUS|CHILDREN|ESTINCOME|CAROWNER|      AGE|LONGDISTANCE|INTERNATIONAL|LOCAL|DROPPED|PAYMETHOD|LOCALBILLTYPE|LONGDISTANCEBILLTYPE|USAGE|RATEPLAN|\n",
      "+-----+---+------+------+--------+---------+--------+---------+------------+-------------+-----+-------+---------+-------------+--------------------+-----+--------+\n",
      "|Adult| 14|     F|     M|       2|  52004.8|       N|    25.14|           5|            0|   23|      0|       CH|       Budget|      Intnl_discount|   28|       1|\n",
      "|Adult| 18|     M|     M|       1|  75004.5|       N|     64.8|          26|            0|   32|      0|       CC|       Budget|      Intnl_discount|   58|       1|\n",
      "|Adult| 21|     M|     M|       0|  19749.3|       N|60.366667|          20|            0|   13|      0|       CC|       Budget|            Standard|   34|       3|\n",
      "|Adult| 22|     M|     S|       1|  57626.9|       Y|43.906667|           9|            0|   38|      0|       CC|       Budget|            Standard|   48|       2|\n",
      "|Adult| 35|     F|     S|       0|  78851.3|       N|48.373333|           0|            0|   28|      0|       CC|    FreeLocal|            Standard|   29|       4|\n",
      "+-----+---+------+------+--------+---------+--------+---------+------------+-------------+-----+-------+---------+-------------+--------------------+-----+--------+\n",
      "only showing top 5 rows\n",
      "\n"
     ]
    }
   ],
   "source": [
    "\n",
    "\n",
    "import os\n",
    "from pyspark.sql import SQLContext\n",
    "# Add asset from file system\n",
    "df_data_1 = SQLContext(sc).read.csv(os.environ['DSX_PROJECT_DIR']+'/datasets/CustomerChurnScoringData.csv', header='true', inferSchema = 'true')\n",
    "df_data_1.show(5)\n",
    "\n",
    "df2 = df_data_1\n",
    "\n",
    "\n",
    "\n"
   ]
  },
  {
   "cell_type": "markdown",
   "metadata": {},
   "source": [
    "#### In the next cell change the data frame name in the right side to same as the name you got previously either reading the scoring data from DB2Wh or from local file"
   ]
  },
  {
   "cell_type": "code",
   "execution_count": 3,
   "metadata": {},
   "outputs": [],
   "source": [
    "churn_data_daily = df2"
   ]
  },
  {
   "cell_type": "code",
   "execution_count": 4,
   "metadata": {},
   "outputs": [
    {
     "name": "stderr",
     "output_type": "stream",
     "text": [
      "/opt/conda/lib/python3.6/site-packages/sklearn/externals/joblib/__init__.py:15: DeprecationWarning: sklearn.externals.joblib is deprecated in 0.21 and will be removed in 0.23. Please import this functionality directly from joblib, which can be installed with: pip install joblib. If this warning is raised when loading pickled models, you may need to re-serialize those models with scikit-learn 0.21+.\n",
      "  warnings.warn(msg, category=DeprecationWarning)\n"
     ]
    }
   ],
   "source": [
    "from watson_machine_learning_client import WatsonMachineLearningAPIClient"
   ]
  },
  {
   "cell_type": "code",
   "execution_count": 10,
   "metadata": {},
   "outputs": [],
   "source": [
    "wml_credentials = {\n",
    "    \"url\": \"<the url of cp4d without the port>\"\",\n",
    "    \"username\": \"<your user id with administrator permission>\",\n",
    "    \"password\": \">your password\",\n",
    "    \"instance_id\": \"icp\"               \n",
    "}\n",
    "\n",
    "wml_client = WatsonMachineLearningAPIClient(wml_credentials)"
   ]
  },
  {
   "cell_type": "code",
   "execution_count": 117,
   "metadata": {},
   "outputs": [
    {
     "name": "stdout",
     "output_type": "stream",
     "text": [
      "------------------------------------  -------------------------------------------  ------  --------------  ------------------------  -----------------  -------------\n",
      "GUID                                  NAME                                         TYPE    STATE           CREATED                   FRAMEWORK          ARTIFACT TYPE\n",
      "468a584c-bafe-4101-8caf-e391ba8588a4  Customer Churn ICP4D function deployment v6  online  DEPLOY_SUCCESS  2019-09-17T21:41:29.363Z  n/a                function\n",
      "36ea79b2-4e4e-4a72-937c-703cd0535084  churn-model-in-cp4d-wml-dep1                 online  DEPLOY_SUCCESS  2019-09-17T19:01:59.099Z  mllib-2.3          model\n",
      "6e3470a3-4a95-4a42-a050-121a4a51ac13  GermanCreditRiskModelICP                     online  DEPLOY_SUCCESS  2019-09-17T16:32:06.303Z  mllib-2.3          model\n",
      "fc8d97e7-584b-498b-8f63-d6409ec08b78  HouseCreditRiskModelICP                      online  DEPLOY_SUCCESS  2019-09-17T15:58:22.893Z  scikit-learn-0.19  model\n",
      "442be063-8d3b-4a03-8e65-47fa8bc8e14e  GolfModelICP                                 online  DEPLOY_SUCCESS  2019-09-17T15:51:39.486Z  scikit-learn-0.19  model\n",
      "e612b0d7-0aa3-452a-9eb2-601616ffb7ae  DrugSelectionModelICP                        online  DEPLOY_SUCCESS  2019-09-17T15:31:37.597Z  mllib-2.3          model\n",
      "96179a0f-bcab-4b90-b386-ffd98c9d890a  Customer Churn ICP4D function deployment v5  online  DEPLOY_SUCCESS  2019-09-16T23:24:44.853Z  n/a                function\n",
      "------------------------------------  -------------------------------------------  ------  --------------  ------------------------  -----------------  -------------\n"
     ]
    }
   ],
   "source": [
    "wml_client.deployments.list()"
   ]
  },
  {
   "cell_type": "markdown",
   "metadata": {},
   "source": [
    "#### Identify the right deployment id from the above list corresponding to the deployment to which you want to send the scoring request. \n",
    "#### Use the same deployment id to get deployment details in the next cell"
   ]
  },
  {
   "cell_type": "code",
   "execution_count": 118,
   "metadata": {},
   "outputs": [],
   "source": [
    "deployment_details = wml_client.deployments.get_details('468a584c-bafe-4101-8caf-e391ba8588a4')"
   ]
  },
  {
   "cell_type": "code",
   "execution_count": 119,
   "metadata": {},
   "outputs": [
    {
     "name": "stdout",
     "output_type": "stream",
     "text": [
      "https://52.116.34.23:31843/v3/scoring/online/468a584c-bafe-4101-8caf-e391ba8588a4\n"
     ]
    }
   ],
   "source": [
    "icp4d_churn_scoring_url = deployment_details['entity']['scoring_url']\n",
    "print(icp4d_churn_scoring_url)"
   ]
  },
  {
   "cell_type": "markdown",
   "metadata": {},
   "source": [
    "#### Now create a Lambda function so that the scoring URL can be invoked for multiple records in parallel"
   ]
  },
  {
   "cell_type": "code",
   "execution_count": 120,
   "metadata": {},
   "outputs": [],
   "source": [
    "def wml_score(score_url, score_vals, score_id):\n",
    "       from watson_machine_learning_client import WatsonMachineLearningAPIClient\n",
    "       wml_credentials_wrks={\n",
    "              \"url\": \"https://52.116.34.23\",\n",
    "              \"username\": \"test1\",\n",
    "              \"password\": \"ibm123\",\n",
    "              \"instance_id\": \"icp\"    \n",
    "       }\n",
    "       wmlclient0 = WatsonMachineLearningAPIClient(wml_credentials_wrks)\n",
    "       fields = [\"GENDER\", \"STATUS\", \"CAROWNER\", \"PAYMETHOD\", \"LOCALBILLTYPE\", \\\n",
    "          \"LONGDISTANCEBILLTYPE\", \"PHASE\", \"CHILDREN\", \"ESTINCOME\", \"AGE\", \"LONGDISTANCE\", \"INTERNATIONAL\", \"LOCAL\",\\\n",
    "          \"DROPPED\",\"USAGE\",\"RATEPLAN\"]\n",
    "       vals = score_vals\n",
    "       payload_scoring0 = {\"fields\": fields,\"values\": [vals]}\n",
    "       scoring_response0 = wmlclient0.deployments.score(score_url, payload_scoring0, score_id)\n",
    "       return scoring_response0"
   ]
  },
  {
   "cell_type": "code",
   "execution_count": 121,
   "metadata": {},
   "outputs": [],
   "source": [
    "churn_data_daily.createOrReplaceTempView(\"scoringT\")"
   ]
  },
  {
   "cell_type": "code",
   "execution_count": 122,
   "metadata": {},
   "outputs": [],
   "source": [
    "from pyspark.sql import SparkSession\n",
    "spark = SparkSession.builder.appName('abc').getOrCreate()"
   ]
  },
  {
   "cell_type": "code",
   "execution_count": 123,
   "metadata": {},
   "outputs": [],
   "source": [
    "import random\n",
    "indx = 'rfc' + str(random.randint(10000,20000))"
   ]
  },
  {
   "cell_type": "markdown",
   "metadata": {},
   "source": [
    "#### Get a Random set of Scoring Data each time you run. You can change the split ration to increase or decrease the number of scoring records"
   ]
  },
  {
   "cell_type": "code",
   "execution_count": 124,
   "metadata": {},
   "outputs": [],
   "source": [
    "scoreinp = spark.sql(\"select GENDER, STATUS, CAROWNER, PAYMETHOD, LOCALBILLTYPE, LONGDISTANCEBILLTYPE, PHASE, ID, CHILDREN,\"\\\n",
    "                     \"ESTINCOME, AGE, DROPPED, RATEPLAN, cast(ID as String) as str_id, cast(longdistance as double) as LONGDISTANCE, \"\\\n",
    "                     \"cast(international as double) as INTERNATIONAL, cast(local as double) as LOCAL, cast(usage as double) as USAGE \"\\\n",
    "                     \"from scoringT \").repartition(5)"
   ]
  },
  {
   "cell_type": "code",
   "execution_count": 125,
   "metadata": {},
   "outputs": [
    {
     "name": "stdout",
     "output_type": "stream",
     "text": [
      "root\n",
      " |-- GENDER: string (nullable = true)\n",
      " |-- STATUS: string (nullable = true)\n",
      " |-- CAROWNER: string (nullable = true)\n",
      " |-- PAYMETHOD: string (nullable = true)\n",
      " |-- LOCALBILLTYPE: string (nullable = true)\n",
      " |-- LONGDISTANCEBILLTYPE: string (nullable = true)\n",
      " |-- PHASE: string (nullable = true)\n",
      " |-- ID: integer (nullable = true)\n",
      " |-- CHILDREN: integer (nullable = true)\n",
      " |-- ESTINCOME: double (nullable = true)\n",
      " |-- AGE: double (nullable = true)\n",
      " |-- DROPPED: integer (nullable = true)\n",
      " |-- RATEPLAN: integer (nullable = true)\n",
      " |-- str_id: string (nullable = true)\n",
      " |-- LONGDISTANCE: double (nullable = true)\n",
      " |-- INTERNATIONAL: double (nullable = true)\n",
      " |-- LOCAL: double (nullable = true)\n",
      " |-- USAGE: double (nullable = true)\n",
      "\n"
     ]
    }
   ],
   "source": [
    "scoreinp.printSchema()"
   ]
  },
  {
   "cell_type": "code",
   "execution_count": 126,
   "metadata": {},
   "outputs": [],
   "source": [
    "scoreRes = scoreinp.rdd.map(lambda line : tuple([line['ID'], \\\n",
    "                wml_score(icp4d_churn_scoring_url, \\\n",
    "                [line['GENDER'], line['STATUS'],line['CAROWNER'], line['PAYMETHOD'], line['LOCALBILLTYPE'], line['LONGDISTANCEBILLTYPE'], \\\n",
    "                line['PHASE'], line['CHILDREN'],line['ESTINCOME'], line['AGE'], line['LONGDISTANCE'], line['INTERNATIONAL'], \\\n",
    "                line['LOCAL'], line['DROPPED'],line['USAGE'], line['RATEPLAN']], \\\n",
    "                indx+line['str_id'])])).toDF(['ID', 'pred']).cache()"
   ]
  },
  {
   "cell_type": "code",
   "execution_count": 127,
   "metadata": {},
   "outputs": [
    {
     "data": {
      "text/plain": [
       "533"
      ]
     },
     "execution_count": 127,
     "metadata": {},
     "output_type": "execute_result"
    }
   ],
   "source": [
    "scoreRes.count()"
   ]
  },
  {
   "cell_type": "code",
   "execution_count": 128,
   "metadata": {},
   "outputs": [
    {
     "name": "stdout",
     "output_type": "stream",
     "text": [
      "root\n",
      " |-- ID: long (nullable = true)\n",
      " |-- pred: map (nullable = true)\n",
      " |    |-- key: string\n",
      " |    |-- value: array (valueContainsNull = true)\n",
      " |    |    |-- element: array (containsNull = true)\n",
      " |    |    |    |-- element: string (containsNull = true)\n",
      "\n"
     ]
    }
   ],
   "source": [
    "scoreRes.printSchema()"
   ]
  },
  {
   "cell_type": "code",
   "execution_count": 115,
   "metadata": {},
   "outputs": [],
   "source": [
    "scoreRes.createOrReplaceTempView(\"scoresT\")"
   ]
  },
  {
   "cell_type": "code",
   "execution_count": 116,
   "metadata": {},
   "outputs": [
    {
     "name": "stdout",
     "output_type": "stream",
     "text": [
      "+----+------------------------------------------------------------------------------------------------------------------------------------------------------------------------------------------------------------------------------------------------------------------------------------------------------------------------------------+\n",
      "|ID  |scordarr                                                                                                                                                                                                                                                                                                                            |\n",
      "+----+------------------------------------------------------------------------------------------------------------------------------------------------------------------------------------------------------------------------------------------------------------------------------------------------------------------------------------+\n",
      "|1215|[M, M, Y, CC, FreeLocal, Standard, Adult, 0, 92414.7, 45.513333, 29.0, 0.0, 10.0, 0, 40.0, 1, F, 1.0, 0.0, 1.0, 0.0, 1.0, 0.0, 0.0, 0.0, [16, [0, 2, 4, 8, 9, 10, 12, 14, 15], [1.0, 1.0, 1.0, 92414.7, 45.513333, 29.0, 10.0, 40.0, 1.0]], [8.027589127426438, 11.97241087257356], [0.4013794563713219, 0.598620543628678], 1.0, T]|\n",
      "|530 |[M, M, N, CC, Budget, Intnl_discount, Adult, 0, 75004.5, 64.8, 26.0, 0.0, 32.0, 0, 58.0, 2, F, 1.0, 0.0, 0.0, 0.0, 0.0, 1.0, 0.0, 0.0, [16, [0, 5, 8, 9, 10, 12, 14, 15], [1.0, 1.0, 75004.5, 64.8, 26.0, 32.0, 58.0, 2.0]], [9.641059459176304, 10.358940540823696], [0.4820529729588152, 0.5179470270411848], 1.0, T]             |\n",
      "|2984|[M, S, N, CH, FreeLocal, Standard, Child, 0, 15924.2, 14.46, 0.0, 0.0, 1.0, 0, 1.0, 2, F, 1.0, 1.0, 0.0, 2.0, 1.0, 0.0, 1.0, 0.0, [1.0, 1.0, 0.0, 2.0, 1.0, 0.0, 1.0, 0.0, 15924.2, 14.46, 0.0, 0.0, 1.0, 0.0, 1.0, 2.0], [16.722943995099186, 3.277056004900814], [0.8361471997549593, 0.1638528002450407], 0.0, F]                |\n",
      "|419 |[M, S, N, Auto, FreeLocal, Standard, Child, 1, 3960.5, 14.693333, 29.0, 0.0, 66.0, 0, 96.0, 2, F, 1.0, 1.0, 0.0, 1.0, 1.0, 0.0, 1.0, 0.0, [1.0, 1.0, 0.0, 1.0, 1.0, 0.0, 1.0, 1.0, 3960.5, 14.693333, 29.0, 0.0, 66.0, 0.0, 96.0, 2.0], [3.644750273724248, 16.35524972627575], [0.18223751368621238, 0.8177624863137876], 1.0, T]  |\n",
      "|1135|[M, S, Y, CC, FreeLocal, Standard, Adult, 0, 74460.7, 55.34, 25.0, 0.0, 179.0, 0, 206.0, 2, F, 1.0, 1.0, 1.0, 0.0, 1.0, 0.0, 0.0, 0.0, [1.0, 1.0, 1.0, 0.0, 1.0, 0.0, 0.0, 0.0, 74460.7, 55.34, 25.0, 0.0, 179.0, 0.0, 206.0, 2.0], [4.806639820822713, 15.193360179177288], [0.24033199104113562, 0.7596680089588644], 1.0, T]     |\n",
      "|317 |[M, M, N, CC, FreeLocal, Standard, Adult, 0, 70908.7, 49.62, 7.0, 4.0, 43.0, 0, 55.0, 4, F, 1.0, 0.0, 0.0, 0.0, 1.0, 0.0, 0.0, 0.0, [16, [0, 4, 8, 9, 10, 11, 12, 14, 15], [1.0, 1.0, 70908.7, 49.62, 7.0, 4.0, 43.0, 55.0, 4.0]], [4.795040762415002, 15.204959237584998], [0.23975203812075013, 0.7602479618792499], 1.0, T]      |\n",
      "|1408|[M, S, N, CC, Budget, Standard, Adult, 0, 66666.0, 77.0, 29.0, 5.0, 35.0, 0, 70.0, 3, F, 1.0, 1.0, 0.0, 0.0, 0.0, 0.0, 0.0, 0.0, [16, [0, 1, 8, 9, 10, 11, 12, 14, 15], [1.0, 1.0, 66666.0, 77.0, 29.0, 5.0, 35.0, 70.0, 3.0]], [5.445351145889604, 14.554648854110395], [0.2722675572944802, 0.7277324427055197], 1.0, T]          |\n",
      "|3681|[M, M, N, CC, Budget, Standard, Adult, 1, 84166.1, 54.013333, 3.0, 0.0, 11.0, 1, 15.0, 1, F, 1.0, 0.0, 0.0, 0.0, 0.0, 0.0, 0.0, 0.0, [16, [0, 7, 8, 9, 10, 12, 13, 14, 15], [1.0, 1.0, 84166.1, 54.013333, 3.0, 11.0, 1.0, 15.0, 1.0]], [9.357573914789798, 10.642426085210202], [0.4678786957394899, 0.5321213042605101], 1.0, T]  |\n",
      "|2718|[F, M, N, Auto, Budget, Standard, Adult, 2, 30998.8, 40.96, 2.0, 0.0, 50.0, 0, 52.0, 2, F, 0.0, 0.0, 0.0, 1.0, 0.0, 0.0, 0.0, 0.0, [16, [3, 7, 8, 9, 10, 12, 14, 15], [1.0, 2.0, 30998.8, 40.96, 2.0, 50.0, 52.0, 2.0]], [18.314151199741836, 1.6858488002581646], [0.9157075599870919, 0.08429244001290823], 0.0, F]               |\n",
      "|1851|[F, S, Y, CC, FreeLocal, Standard, Adult, 2, 11251.1, 47.0, 28.0, 0.0, 113.0, 0, 141.0, 4, F, 0.0, 1.0, 1.0, 0.0, 1.0, 0.0, 0.0, 0.0, [0.0, 1.0, 1.0, 0.0, 1.0, 0.0, 0.0, 2.0, 11251.1, 47.0, 28.0, 0.0, 113.0, 0.0, 141.0, 4.0], [3.7561193352620377, 16.24388066473796], [0.18780596676310188, 0.8121940332368981], 1.0, T]       |\n",
      "+----+------------------------------------------------------------------------------------------------------------------------------------------------------------------------------------------------------------------------------------------------------------------------------------------------------------------------------------+\n",
      "only showing top 10 rows\n",
      "\n"
     ]
    }
   ],
   "source": [
    "spark.sql(\"select ID, explode(pred.values) as scordarr from scoresT\").show(10, False)"
   ]
  },
  {
   "cell_type": "code",
   "execution_count": 79,
   "metadata": {},
   "outputs": [],
   "source": [
    "scorefdf2 = spark.sql(\"select ID, explode(pred.values) as scordarr from scoresT\").cache()"
   ]
  },
  {
   "cell_type": "code",
   "execution_count": 80,
   "metadata": {},
   "outputs": [],
   "source": [
    "scorefdf2.createOrReplaceTempView(\"scores3T\")"
   ]
  },
  {
   "cell_type": "code",
   "execution_count": 81,
   "metadata": {},
   "outputs": [
    {
     "name": "stdout",
     "output_type": "stream",
     "text": [
      "+----+--------+\n",
      "|ID  |ChurnFlg|\n",
      "+----+--------+\n",
      "|1215| T      |\n",
      "|530 | T      |\n",
      "|2984| F      |\n",
      "|419 | T      |\n",
      "|1135| T      |\n",
      "|317 | T      |\n",
      "|1408| T      |\n",
      "|3681| T      |\n",
      "|2718| F      |\n",
      "|1851| T      |\n",
      "|1312| T      |\n",
      "|2279| F      |\n",
      "|1799| F      |\n",
      "|2932| F      |\n",
      "|3657| T      |\n",
      "|2644| F      |\n",
      "|1184| F      |\n",
      "|518 | F      |\n",
      "|3009| T      |\n",
      "|1999| T      |\n",
      "+----+--------+\n",
      "only showing top 20 rows\n",
      "\n"
     ]
    }
   ],
   "source": [
    "spark.sql(\"select ID, substr(split(scordarr, ',')[size(split(scordarr, ','))-1],1,2) as ChurnFlg from scores3T\").show(20, False)"
   ]
  },
  {
   "cell_type": "code",
   "execution_count": 82,
   "metadata": {},
   "outputs": [],
   "source": [
    "churnDf = spark.sql(\"select ID, substr(split(scordarr, ',')[size(split(scordarr, ','))-1],1,2) as ChurnFlg from scores3T\")"
   ]
  },
  {
   "cell_type": "code",
   "execution_count": 83,
   "metadata": {},
   "outputs": [
    {
     "name": "stdout",
     "output_type": "stream",
     "text": [
      "root\n",
      " |-- ID: long (nullable = true)\n",
      " |-- ChurnFlg: string (nullable = true)\n",
      "\n"
     ]
    }
   ],
   "source": [
    "churnDf.printSchema()"
   ]
  },
  {
   "cell_type": "code",
   "execution_count": 84,
   "metadata": {},
   "outputs": [
    {
     "data": {
      "text/plain": [
       "533"
      ]
     },
     "execution_count": 84,
     "metadata": {},
     "output_type": "execute_result"
    }
   ],
   "source": [
    "churnDf.count()"
   ]
  },
  {
   "cell_type": "code",
   "execution_count": 32,
   "metadata": {},
   "outputs": [],
   "source": [
    "jdbcuri = \"jdbc:db2://10.187.215.33:31959/BLUDB\"\n",
    "\n",
    "properties = {\n",
    "    \"user\": \"user999\",\n",
    "    \"password\": \"bGSgd%77k7VZ1**@\",\n",
    "    \"driver\": \"com.ibm.db2.jcc.DB2Driver\",\n",
    "    \"sslConnection\":\"false\"\n",
    "}\n",
    "\n",
    "TABLE_NAME = \"churnscores\""
   ]
  },
  {
   "cell_type": "code",
   "execution_count": 33,
   "metadata": {},
   "outputs": [],
   "source": [
    "churnDf.write.jdbc(url=jdbcuri, table=TABLE_NAME, mode=\"overwrite\", properties=properties)"
   ]
  },
  {
   "cell_type": "code",
   "execution_count": 34,
   "metadata": {},
   "outputs": [],
   "source": [
    "rdDb2df = spark.read.jdbc(url=jdbcuri, table=TABLE_NAME, properties=properties)"
   ]
  },
  {
   "cell_type": "code",
   "execution_count": 35,
   "metadata": {},
   "outputs": [
    {
     "data": {
      "text/plain": [
       "2"
      ]
     },
     "execution_count": 35,
     "metadata": {},
     "output_type": "execute_result"
    }
   ],
   "source": [
    "rdDb2df.count()"
   ]
  },
  {
   "cell_type": "code",
   "execution_count": 36,
   "metadata": {},
   "outputs": [
    {
     "name": "stdout",
     "output_type": "stream",
     "text": [
      "+----+--------+\n",
      "|  ID|ChurnFlg|\n",
      "+----+--------+\n",
      "|1215|       T|\n",
      "| 530|       T|\n",
      "+----+--------+\n",
      "\n"
     ]
    }
   ],
   "source": [
    "rdDb2df.show()"
   ]
  },
  {
   "cell_type": "code",
   "execution_count": null,
   "metadata": {},
   "outputs": [],
   "source": []
  }
 ],
 "metadata": {
  "kernelspec": {
   "display_name": "Python3.6",
   "language": "python",
   "name": "python3"
  },
  "language_info": {
   "codemirror_mode": {
    "name": "ipython",
    "version": 3
   },
   "file_extension": ".py",
   "mimetype": "text/x-python",
   "name": "python",
   "nbconvert_exporter": "python",
   "pygments_lexer": "ipython3",
   "version": "3.6.7"
  }
 },
 "nbformat": 4,
 "nbformat_minor": 2
}
